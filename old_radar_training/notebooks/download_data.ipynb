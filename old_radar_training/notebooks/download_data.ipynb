{
 "cells": [
  {
   "cell_type": "code",
   "execution_count": 13,
   "metadata": {},
   "outputs": [],
   "source": [
    "from datetime import datetime, timezone\n",
    "import bs4 as bs\n",
    "import os, shutil\n",
    "import requests\n",
    "import glob\n",
    "import pandas as pd\n",
    "import numpy as np\n",
    "\n",
    "pd.set_option('display.max_rows', 1000)\n",
    "pd.set_option('display.max_columns', 1000)\n",
    "pd.set_option('display.max_colwidth', None)\n",
    "\n",
    "root_dir = \"/Users/trevorwiebe/Ktor/radar_backend/radar_data/\""
   ]
  },
  {
   "cell_type": "code",
   "execution_count": 14,
   "metadata": {},
   "outputs": [
    {
     "name": "stdout",
     "output_type": "stream",
     "text": [
      "Downloading finished, outcome unknown.\n"
     ]
    }
   ],
   "source": [
    "# Downloading csv file\n",
    "\n",
    "def download_csv_files(folder_url, destination_folder, start_time, end_time):\n",
    "\n",
    "  try:\n",
    "\n",
    "    # Create the destination folder if it doesn't exist\n",
    "    if not os.path.exists(destination_folder):\n",
    "      os.makedirs(destination_folder)\n",
    "\n",
    "    # Delete old files\n",
    "    for filename in os.listdir(destination_folder):\n",
    "      file_path = os.path.join(destination_folder, filename)\n",
    "      try:\n",
    "          if os.path.isfile(file_path) or os.path.islink(file_path):\n",
    "              os.unlink(file_path)\n",
    "          elif os.path.isdir(file_path):\n",
    "              shutil.rmtree(file_path)\n",
    "      except Exception as e:\n",
    "          print('Failed to delete %s. Reason: %s' % (file_path, e))\n",
    "\n",
    "\n",
    "    # Get the list of files in the folder\n",
    "    response = requests.get(folder_url)\n",
    "    data = bs.BeautifulSoup(response.text, \"html.parser\")\n",
    "\n",
    "    csv_files = data.find_all(\"a\", href=lambda href: href and href.endswith(\".csv\"))\n",
    "\n",
    "    # Filter CSV files based on time range\n",
    "    filtered_files = []\n",
    "    for file_name in csv_files:\n",
    "        csv_filename = file_name['href'].split('/')[-1]\n",
    "        try:\n",
    "            # Parse the filename to extract the creation or modification time\n",
    "            file_time_str = csv_filename.split('_')[0]\n",
    "            file_time = datetime.strptime(file_time_str, '%d-%m-%Y-%H%M')\n",
    "            if start_time <= file_time <= end_time:\n",
    "                filtered_files.append(file_name)\n",
    "        except ValueError as e:\n",
    "            # Handle parsing errors (e.g., invalid filename format)\n",
    "            print(f\"Error parsing filename: {csv_filename}, {e.args[0]}\")\n",
    "    \n",
    "    if len(filtered_files) == 0:\n",
    "       print(\"No files matching that criteria\")\n",
    "\n",
    "    for file_name in filtered_files:\n",
    "      csv_url = file_name['href']  # Get the CSV file URL\n",
    "      csv_filename = csv_url.split('/')[-1]  # Extract the filename\n",
    "      link = folder_url + csv_filename\n",
    "      destination_link = os.path.join(destination_folder, csv_filename)\n",
    "\n",
    "      response = requests.get(link)\n",
    "      with open(destination_link, 'wb') as f:\n",
    "         f.write(response.content)\n",
    "\n",
    "    print(\"Downloading finished, outcome unknown.\")\n",
    "\n",
    "  except requests.exceptions.RequestException as e:\n",
    "    print(f\"Error downloading files: {e}\")\n",
    "\n",
    "\n",
    "\n",
    "# Initiate download of files\n",
    "folder_url = \"http://69.48.179.226/csv_files/\"\n",
    "destination_folder = root_dir + \"csv_files\"\n",
    "now = datetime.now(timezone.utc)\n",
    "start_time = datetime(2024, 9, 22, 17, 0)\n",
    "end_time = datetime(2024, 9, 22, 18, 0)\n",
    "\n",
    "download_csv_files(folder_url, destination_folder, start_time, end_time)"
   ]
  },
  {
   "cell_type": "code",
   "execution_count": 15,
   "metadata": {},
   "outputs": [],
   "source": [
    "# Combines multiple CSV files into one.\n",
    "def combine_csv_files(input_folder, output_file):\n",
    "\n",
    "    # Get a list of all CSV files in the input folder\n",
    "    csv_files = glob.glob(input_folder + \"/*.csv\")\n",
    "\n",
    "    # Initialize an empty list to store DataFrames\n",
    "    dataframes = []\n",
    "\n",
    "    # Iterate through each CSV file\n",
    "    for file in csv_files:\n",
    "        # Read the CSV file into a DataFrame\n",
    "        df = pd.read_csv(file)\n",
    "\n",
    "        df = df.rename(columns={'time': 'dateTime'})\n",
    "        df = df.rename(columns={'unknown': 'reflectivity'})\n",
    "\n",
    "        # Select the desired columns\n",
    "        df = df[['dateTime', 'latitude', 'longitude', 'reflectivity']]\n",
    "\n",
    "        # Append the DataFrame to the list\n",
    "        dataframes.append(df)\n",
    "\n",
    "    # Concatenate all DataFrames into one\n",
    "    combined_df = pd.concat(dataframes, ignore_index=True)\n",
    "\n",
    "    combined_df.sort_values(by=['latitude', 'longitude', 'dateTime'], inplace=True)\n",
    "\n",
    "    # Save the combined DataFrame to a CSV file\n",
    "    combined_df.to_csv(output_file, index=False)\n",
    "\n",
    "input_folder = root_dir + \"csv_files\"\n",
    "output_file = root_dir + \"data/combined_data.csv\"\n",
    "\n",
    "combine_csv_files(input_folder, output_file)"
   ]
  },
  {
   "cell_type": "code",
   "execution_count": 16,
   "metadata": {},
   "outputs": [
    {
     "name": "stdout",
     "output_type": "stream",
     "text": [
      "Finished downloading andd data processing at 22/09/24 21:30:56.141593\n"
     ]
    }
   ],
   "source": [
    "import subprocess\n",
    "\n",
    "print(\"Finished downloading andd data processing at \" + datetime.now().strftime('%d/%m/%y %H:%M:%S.%f'))"
   ]
  }
 ],
 "metadata": {
  "kernelspec": {
   "display_name": "radarenv",
   "language": "python",
   "name": "python3"
  },
  "language_info": {
   "codemirror_mode": {
    "name": "ipython",
    "version": 3
   },
   "file_extension": ".py",
   "mimetype": "text/x-python",
   "name": "python",
   "nbconvert_exporter": "python",
   "pygments_lexer": "ipython3",
   "version": "3.12.2"
  }
 },
 "nbformat": 4,
 "nbformat_minor": 2
}
