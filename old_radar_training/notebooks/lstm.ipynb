{
 "cells": [
  {
   "cell_type": "code",
   "execution_count": 69,
   "metadata": {},
   "outputs": [],
   "source": [
    "import os\n",
    "import torch\n",
    "import numpy as np\n",
    "import pandas as pd\n",
    "\n",
    "from torch import nn, optim\n",
    "from torch.utils.data import DataLoader\n",
    "from torchvision import datasets, transforms"
   ]
  },
  {
   "cell_type": "code",
   "execution_count": 70,
   "metadata": {},
   "outputs": [],
   "source": [
    "batchsize = 100\n",
    "training_data = datasets.FashionMNIST(root=\"../fashion_mnist\", train=True, transform=transforms.ToTensor(), download=True)\n",
    "test_data = datasets.FashionMNIST(root=\"../fashion_mnist\", train=False, transform=transforms.ToTensor(), download=True)\n",
    "\n",
    "train_dataloader = DataLoader(training_data, batch_size=batchsize, shuffle=True)\n",
    "test_dataloader = DataLoader(test_data, batch_size=batchsize, shuffle=True)"
   ]
  },
  {
   "cell_type": "code",
   "execution_count": 71,
   "metadata": {},
   "outputs": [],
   "source": [
    "# define hyperparameters\n",
    "sequence_len = 28\n",
    "input_len = 28\n",
    "hidden_size = 128\n",
    "num_layers = 2\n",
    "num_classes = 10\n",
    "num_epochs = 10\n",
    "learning_rate = 0.01"
   ]
  },
  {
   "cell_type": "code",
   "execution_count": 72,
   "metadata": {},
   "outputs": [],
   "source": [
    "class LSTM(nn.Module):\n",
    "    def __init__(self, input_len, hidden_size, num_class, num_layers):\n",
    "        super(LSTM, self).__init__()\n",
    "        self.hidden_size = hidden_size\n",
    "        self.num_layers = num_layers\n",
    "        self.lstm = nn.LSTM(input_size=input_len, hidden_size=hidden_size, num_layers=num_layers, batch_first=True)\n",
    "        self.ouput_layer = nn.Linear(hidden_size, num_classes)\n",
    "\n",
    "    def forward(self, X):\n",
    "        hidden_states = torch.zeros(self.num_layers, X.size(0), self.hidden_size)\n",
    "        cell_states = torch.zeros(self.num_layers, X.size(0), self.hidden_size)\n",
    "        out, _ = self.lstm(X, (hidden_states, cell_states))\n",
    "        out = self.ouput_layer(out[:, -1, :])\n",
    "        return out"
   ]
  },
  {
   "cell_type": "code",
   "execution_count": 73,
   "metadata": {},
   "outputs": [
    {
     "name": "stdout",
     "output_type": "stream",
     "text": [
      "LSTM(\n",
      "  (lstm): LSTM(28, 128, num_layers=2, batch_first=True)\n",
      "  (ouput_layer): Linear(in_features=128, out_features=10, bias=True)\n",
      ")\n"
     ]
    }
   ],
   "source": [
    "model = LSTM(input_len, hidden_size, num_classes, num_layers)\n",
    "print(model)"
   ]
  },
  {
   "cell_type": "code",
   "execution_count": 74,
   "metadata": {},
   "outputs": [],
   "source": [
    "loss_func = nn.CrossEntropyLoss()\n",
    "sgd = optim.SGD(model.parameters(), lr=learning_rate)\n",
    "adam = optim.Adam(model.parameters(), lr=learning_rate)"
   ]
  },
  {
   "cell_type": "code",
   "execution_count": 75,
   "metadata": {},
   "outputs": [],
   "source": [
    "def train(num_epochs, model, traindataloader, loss_function, optimizer):\n",
    "    total_steps = len(traindataloader)\n",
    "\n",
    "    for epoch in range(num_epochs):\n",
    "        for batch, (images, labels) in enumerate(traindataloader):\n",
    "            images = images.reshape(-1, sequence_len, input_len)\n",
    "\n",
    "            output = model(images)\n",
    "            loss = loss_function(output, labels)\n",
    "\n",
    "            optimizer.zero_grad()\n",
    "            loss.backward()\n",
    "            optimizer.step()\n",
    "            if(batch+1)%100 == 0:\n",
    "                print(f\"Epoch: {epoch+1}: Batch {batch+1} / {total_steps}; Loss: {loss.item():>4}\")"
   ]
  },
  {
   "cell_type": "code",
   "execution_count": 76,
   "metadata": {},
   "outputs": [
    {
     "name": "stdout",
     "output_type": "stream",
     "text": [
      "Epoch: 0: Batch 99 / 600; Loss: 2.3027312755584717\n",
      "Epoch: 0: Batch 199 / 600; Loss: 2.3028528690338135\n",
      "Epoch: 0: Batch 299 / 600; Loss: 2.2928240299224854\n",
      "Epoch: 0: Batch 399 / 600; Loss: 2.2971718311309814\n",
      "Epoch: 0: Batch 499 / 600; Loss: 2.2872400283813477\n",
      "Epoch: 0: Batch 599 / 600; Loss: 2.2885189056396484\n",
      "Epoch: 1: Batch 99 / 600; Loss: 2.285217761993408\n",
      "Epoch: 1: Batch 199 / 600; Loss: 2.2799270153045654\n",
      "Epoch: 1: Batch 299 / 600; Loss: 2.276942729949951\n",
      "Epoch: 1: Batch 399 / 600; Loss: 2.273347854614258\n",
      "Epoch: 1: Batch 499 / 600; Loss: 2.2701456546783447\n",
      "Epoch: 1: Batch 599 / 600; Loss: 2.2612640857696533\n",
      "Epoch: 2: Batch 99 / 600; Loss: 2.2570202350616455\n",
      "Epoch: 2: Batch 199 / 600; Loss: 2.2480807304382324\n",
      "Epoch: 2: Batch 299 / 600; Loss: 2.241544723510742\n",
      "Epoch: 2: Batch 399 / 600; Loss: 2.2122035026550293\n",
      "Epoch: 2: Batch 499 / 600; Loss: 2.211308479309082\n",
      "Epoch: 2: Batch 599 / 600; Loss: 2.172844171524048\n",
      "Epoch: 3: Batch 99 / 600; Loss: 2.154489517211914\n",
      "Epoch: 3: Batch 199 / 600; Loss: 2.127925157546997\n",
      "Epoch: 3: Batch 299 / 600; Loss: 2.0771148204803467\n",
      "Epoch: 3: Batch 399 / 600; Loss: 2.035369873046875\n",
      "Epoch: 3: Batch 499 / 600; Loss: 1.9612890481948853\n",
      "Epoch: 3: Batch 599 / 600; Loss: 1.9821125268936157\n",
      "Epoch: 4: Batch 99 / 600; Loss: 1.8600975275039673\n",
      "Epoch: 4: Batch 199 / 600; Loss: 1.8116014003753662\n",
      "Epoch: 4: Batch 299 / 600; Loss: 1.875441551208496\n",
      "Epoch: 4: Batch 399 / 600; Loss: 1.7153534889221191\n",
      "Epoch: 4: Batch 499 / 600; Loss: 1.7235368490219116\n",
      "Epoch: 4: Batch 599 / 600; Loss: 1.5651980638504028\n",
      "Epoch: 5: Batch 99 / 600; Loss: 1.5656546354293823\n",
      "Epoch: 5: Batch 199 / 600; Loss: 1.507412075996399\n",
      "Epoch: 5: Batch 299 / 600; Loss: 1.415077567100525\n",
      "Epoch: 5: Batch 399 / 600; Loss: 1.4247658252716064\n",
      "Epoch: 5: Batch 499 / 600; Loss: 1.395108938217163\n",
      "Epoch: 5: Batch 599 / 600; Loss: 1.3319766521453857\n",
      "Epoch: 6: Batch 99 / 600; Loss: 1.19683837890625\n",
      "Epoch: 6: Batch 199 / 600; Loss: 1.230320930480957\n",
      "Epoch: 6: Batch 299 / 600; Loss: 1.3032805919647217\n",
      "Epoch: 6: Batch 399 / 600; Loss: 1.3058489561080933\n",
      "Epoch: 6: Batch 499 / 600; Loss: 1.236635684967041\n",
      "Epoch: 6: Batch 599 / 600; Loss: 1.0837515592575073\n",
      "Epoch: 7: Batch 99 / 600; Loss: 0.9868446588516235\n",
      "Epoch: 7: Batch 199 / 600; Loss: 1.1483207941055298\n",
      "Epoch: 7: Batch 299 / 600; Loss: 0.9394473433494568\n",
      "Epoch: 7: Batch 399 / 600; Loss: 0.9363945126533508\n",
      "Epoch: 7: Batch 499 / 600; Loss: 1.2039729356765747\n",
      "Epoch: 7: Batch 599 / 600; Loss: 0.9878763556480408\n",
      "Epoch: 8: Batch 99 / 600; Loss: 0.9193090200424194\n",
      "Epoch: 8: Batch 199 / 600; Loss: 1.0329580307006836\n",
      "Epoch: 8: Batch 299 / 600; Loss: 1.0202487707138062\n",
      "Epoch: 8: Batch 399 / 600; Loss: 0.8288075923919678\n",
      "Epoch: 8: Batch 499 / 600; Loss: 1.1190801858901978\n",
      "Epoch: 8: Batch 599 / 600; Loss: 1.0558658838272095\n",
      "Epoch: 9: Batch 99 / 600; Loss: 0.7909823656082153\n",
      "Epoch: 9: Batch 199 / 600; Loss: 0.9180362224578857\n",
      "Epoch: 9: Batch 299 / 600; Loss: 1.077023983001709\n",
      "Epoch: 9: Batch 399 / 600; Loss: 0.8208869695663452\n",
      "Epoch: 9: Batch 499 / 600; Loss: 0.8885963559150696\n",
      "Epoch: 9: Batch 599 / 600; Loss: 0.8477385640144348\n"
     ]
    }
   ],
   "source": [
    "train(num_epochs, model, train_dataloader, loss_func, sgd)"
   ]
  },
  {
   "cell_type": "code",
   "execution_count": 77,
   "metadata": {},
   "outputs": [
    {
     "data": {
      "text/plain": [
       "tensor([7, 8, 3, 0, 6, 1, 0, 2, 2, 8, 5, 9, 0, 8, 1, 5, 0, 5, 0, 1, 4, 0, 8, 5,\n",
       "        6, 7, 0, 7, 6, 3, 2, 7, 6, 0, 2, 8, 0, 0, 9, 3, 4, 1, 6, 4, 5, 8, 9, 9,\n",
       "        7, 0, 5, 7, 9, 2, 6, 0, 8, 6, 7, 3, 1, 4, 3, 8, 4, 4, 5, 5, 6, 8, 9, 0,\n",
       "        0, 3, 9, 6, 3, 3, 1, 4, 6, 8, 4, 3, 8, 3, 2, 0, 4, 4, 9, 2, 7, 4, 6, 1,\n",
       "        5, 9, 9, 9])"
      ]
     },
     "execution_count": 77,
     "metadata": {},
     "output_type": "execute_result"
    }
   ],
   "source": [
    "test_images, test_label = next(iter(test_dataloader))\n",
    "test_label"
   ]
  },
  {
   "cell_type": "code",
   "execution_count": null,
   "metadata": {},
   "outputs": [],
   "source": []
  }
 ],
 "metadata": {
  "kernelspec": {
   "display_name": "radarenv",
   "language": "python",
   "name": "python3"
  },
  "language_info": {
   "codemirror_mode": {
    "name": "ipython",
    "version": 3
   },
   "file_extension": ".py",
   "mimetype": "text/x-python",
   "name": "python",
   "nbconvert_exporter": "python",
   "pygments_lexer": "ipython3",
   "version": "3.12.2"
  }
 },
 "nbformat": 4,
 "nbformat_minor": 2
}
